{
 "cells": [
  {
   "cell_type": "code",
   "execution_count": 1,
   "id": "40c3bb1d",
   "metadata": {},
   "outputs": [
    {
     "data": {
      "text/plain": [
       "'C:\\\\Users\\\\mai_a\\\\Downloads\\\\upload\\\\databarm'"
      ]
     },
     "execution_count": 1,
     "metadata": {},
     "output_type": "execute_result"
    }
   ],
   "source": [
    "pwd"
   ]
  },
  {
   "cell_type": "code",
   "execution_count": 2,
   "id": "a609bcd4",
   "metadata": {},
   "outputs": [],
   "source": [
    "import os\n",
    "import pytesseract\n",
    "from PIL import Image\n",
    "import concurrent.futures"
   ]
  },
  {
   "cell_type": "code",
   "execution_count": 3,
   "id": "7cd300d3",
   "metadata": {},
   "outputs": [],
   "source": [
    "\n",
    "# Function to process a single labeled image\n",
    "def process_labeled_image(label, image_file):\n",
    "    try:\n",
    "        image = Image.open(image_file)\n",
    "        # Perform OCR to extract Arabic text\n",
    "        text = pytesseract.image_to_string(image, lang='ara', config='--psm 6')\n",
    "        return label, image_file, text\n",
    "    except Exception as e:\n",
    "        return label, image_file, str(e)"
   ]
  },
  {
   "cell_type": "code",
   "execution_count": 4,
   "id": "ba8263e2",
   "metadata": {},
   "outputs": [],
   "source": [
    "# Directory with your labeled dataset of Arabic text images\n",
    "dataset_directory = r\"C:\\Users\\mai_a\\Downloads\\upload\\databarm\"\n",
    "\n"
   ]
  },
  {
   "cell_type": "code",
   "execution_count": 5,
   "id": "430b1710",
   "metadata": {},
   "outputs": [],
   "source": [
    "# Output directory for saving text extraction results\n",
    "output_directory = r\"C:\\Users\\mai_a\\Downloads\\upload\\databarm\\Ghena results\"\n",
    "\n"
   ]
  },
  {
   "cell_type": "code",
   "execution_count": 6,
   "id": "420b1c3f",
   "metadata": {},
   "outputs": [],
   "source": [
    "# Initialize a list to store labeled image files\n",
    "labeled_image_files = []"
   ]
  },
  {
   "cell_type": "code",
   "execution_count": 7,
   "id": "8a30384a",
   "metadata": {},
   "outputs": [],
   "source": [
    "# Create or open a text file to save the extracted text\n",
    "output_file_path = os.path.join(output_directory, r\"C:\\Users\\mai_a\\Downloads\\upload\\databarm\\Ghena results\\extracted_texts.txt\")\n",
    "output_file = open(output_file_path, 'w', encoding='utf-8')\n",
    "\n",
    "\n"
   ]
  },
  {
   "cell_type": "code",
   "execution_count": 8,
   "id": "620f56e3",
   "metadata": {},
   "outputs": [
    {
     "name": "stdout",
     "output_type": "stream",
     "text": [
      "Requirement already satisfied: pytesseract in c:\\users\\mai_a\\onedrive\\python\\lib\\site-packages (0.3.10)\n",
      "Requirement already satisfied: packaging>=21.3 in c:\\users\\mai_a\\onedrive\\python\\lib\\site-packages (from pytesseract) (22.0)\n",
      "Requirement already satisfied: Pillow>=8.0.0 in c:\\users\\mai_a\\onedrive\\python\\lib\\site-packages (from pytesseract) (9.4.0)\n",
      "Note: you may need to restart the kernel to use updated packages.\n"
     ]
    }
   ],
   "source": [
    "pip install --upgrade pytesseract"
   ]
  },
  {
   "cell_type": "code",
   "execution_count": 9,
   "id": "1cc3b20f",
   "metadata": {},
   "outputs": [],
   "source": [
    "pytesseract.pytesseract.tesseract_cmd = r\"C:\\Users\\mai_a\\Downloads\\ara.traineddata\"  # Update with the correct path to your Tesseract executable\n"
   ]
  },
  {
   "cell_type": "code",
   "execution_count": 10,
   "id": "04504bc6",
   "metadata": {},
   "outputs": [],
   "source": [
    "# Set up the Tesseract configuration for Arabic text\n",
    "pytesseract.pytesseract.tesseract_cmd = r\"C:\\Users\\mai_a\\Downloads\\ara.traineddata\"  # Update with the correct path to your Tesseract executable\n",
    "config = '--psm 6'"
   ]
  },
  {
   "cell_type": "code",
   "execution_count": 11,
   "id": "e74c4eaa",
   "metadata": {},
   "outputs": [],
   "source": [
    "# Process labeled images in parallel using ThreadPoolExecutor\n",
    "with concurrent.futures.ThreadPoolExecutor() as executor:\n",
    "    results = list(executor.map(lambda args: process_labeled_image(*args), labeled_image_files))\n"
   ]
  },
  {
   "cell_type": "code",
   "execution_count": 12,
   "id": "a09c5ab3",
   "metadata": {},
   "outputs": [],
   "source": [
    "# Write the results to the output file, including labels\n",
    "for label, image_file, text in results:\n",
    "    output_file.write(f\"Label: {label}\\n\")\n",
    "    output_file.write(f\"Text from {image_file}:\\n{text}\\n\\n\")\n"
   ]
  },
  {
   "cell_type": "code",
   "execution_count": 13,
   "id": "3b1615b6",
   "metadata": {},
   "outputs": [
    {
     "name": "stdout",
     "output_type": "stream",
     "text": [
      "Extracted Arabic texts with labels saved to 'C:\\Users\\mai_a\\Downloads\\upload\\databarm\\Ghena results\\extracted_texts.txt'\n"
     ]
    }
   ],
   "source": [
    "# Close the output file\n",
    "output_file.close()\n",
    "\n",
    "print(f\"Extracted Arabic texts with labels saved to '{output_file_path}'\")"
   ]
  },
  {
   "cell_type": "code",
   "execution_count": 14,
   "id": "9a589888",
   "metadata": {},
   "outputs": [],
   "source": [
    "import pytesseract"
   ]
  },
  {
   "cell_type": "code",
   "execution_count": 15,
   "id": "00fab413",
   "metadata": {},
   "outputs": [],
   "source": [
    "pytesseract.pytesseract.tesseract_cmd = r\"C:\\Users\\mai_a\\Downloads\\upload\\databarm\\ara.traineddata\" # Update with the correct path to your Tesseract executable\n"
   ]
  },
  {
   "cell_type": "code",
   "execution_count": 16,
   "id": "9085802e",
   "metadata": {},
   "outputs": [],
   "source": [
    "import cv2\n"
   ]
  },
  {
   "cell_type": "code",
   "execution_count": 17,
   "id": "8cdd6935",
   "metadata": {},
   "outputs": [],
   "source": [
    "img=cv2.imread(r\"/C:\\Users\\mai_a\\Downloads\\upload\\databarm\\لقطة شاشة 2023-11-17 203715.png\")"
   ]
  },
  {
   "cell_type": "code",
   "execution_count": 18,
   "id": "c68ca68d",
   "metadata": {},
   "outputs": [],
   "source": [
    "\n",
    "# Make sure to replace the path with the correct one for your image\n",
    "image_path =r\"C:\\Users\\mai_a\\Downloads\\upload\\databarm\\Book\\img\\0098.jpg\"  # truncated path for privacy\n"
   ]
  },
  {
   "cell_type": "code",
   "execution_count": 19,
   "id": "fee25368",
   "metadata": {},
   "outputs": [],
   "source": [
    "\n",
    "# Load the image using OpenCV\n",
    "img = cv2.imread(image_path)\n"
   ]
  },
  {
   "cell_type": "code",
   "execution_count": null,
   "id": "cfaf3144",
   "metadata": {},
   "outputs": [],
   "source": [
    "# Check if the image has been loaded correctly\n",
    "if img is not None:\n",
    "    cv2.imshow('Image', img)\n",
    "    cv2.waitKey(0)\n",
    "    cv2.destroyAllWindows()\n",
    "else:\n",
    "    print(f\"The image could not be loaded. Please check the file path: {image_path}\")"
   ]
  },
  {
   "cell_type": "code",
   "execution_count": null,
   "id": "f7f9af34",
   "metadata": {},
   "outputs": [],
   "source": [
    "# text = pytesseract.image_to_string(img, lang='ara')\n",
    "!pip install pytesseract"
   ]
  },
  {
   "cell_type": "code",
   "execution_count": null,
   "id": "1ddf0fc0",
   "metadata": {},
   "outputs": [],
   "source": [
    "import subprocess\n",
    "import sys\n",
    "import ctypes  # This is the missing import\n",
    "\n",
    "def is_admin():\n",
    "    try:\n",
    "        return subprocess.check_output(\"net session\", stderr=subprocess.STDOUT, shell=True)\n",
    "    except subprocess.CalledProcessError as e:\n",
    "        return e.returncode == 0\n",
    "\n",
    "if is_admin():\n",
    "    # Your code that requires admin rights goes here\n",
    "    pass\n",
    "else:\n",
    "    # Re-run the program with admin rights\n",
    "    ctypes.windll.shell32.ShellExecuteW(None, \"runas\", sys.executable, \" \".join(sys.argv), None, 1)\n"
   ]
  },
  {
   "cell_type": "code",
   "execution_count": null,
   "id": "7ec83514",
   "metadata": {},
   "outputs": [],
   "source": [
    "# import cv2\n",
    "# import pytesseract\n",
    "\n",
    "# # Replace with the path to your tesseract executable\n",
    "# # Example: 'C:\\\\Program Files\\\\Tesseract-OCR\\\\tesseract.exe'\n",
    "# pytesseract.pytesseract.tesseract_cmd = r\"C:\\Users\\mai_a\\Downloads\\upload\\databarm\\tesseract-ocr-w64-setup-5.3.3.20231005.exe\"\n",
    "\n",
    "\n",
    "# # Check if the image is loaded properly\n",
    "# if img is not None:\n",
    "#     # Use Tesseract to do OCR on the image\n",
    "#     text = pytesseract.image_to_string(img, lang='ara')\n",
    "\n",
    "#     print(text)\n",
    "# else:\n",
    "#     print(\"The image could not be loaded.\")\n",
    "import ctypes\n",
    "import os\n",
    "import sys\n",
    "import subprocess\n",
    "\n",
    "# Function to check if the current process has administrative privileges\n",
    "def is_admin():\n",
    "    try:\n",
    "        return subprocess.check_output('net session', stderr=subprocess.STDOUT, shell=True)\n",
    "    except subprocess.CalledProcessError as e:\n",
    "        return e.returncode == 0\n",
    "\n",
    "# If the script is not running with admin rights, re-run it as admin\n",
    "if is_admin():\n",
    "    # Your code that requires admin rights goes here\n",
    "    pass\n",
    "else:\n",
    "    if sys.platform == 'win32':\n",
    "        ctypes.windll.shell32.ShellExecuteW(None, \"runas\", sys.executable, \" \".join(sys.argv), None, 1)\n",
    "    else:\n",
    "        # Non-Windows case (not handled here)\n",
    "        pass\n"
   ]
  },
  {
   "cell_type": "code",
   "execution_count": null,
   "id": "12eedf8b",
   "metadata": {},
   "outputs": [],
   "source": [
    "print (text)"
   ]
  },
  {
   "cell_type": "code",
   "execution_count": null,
   "id": "08223678",
   "metadata": {},
   "outputs": [],
   "source": []
  },
  {
   "cell_type": "code",
   "execution_count": null,
   "id": "70c6dbdb",
   "metadata": {},
   "outputs": [],
   "source": []
  }
 ],
 "metadata": {
  "kernelspec": {
   "display_name": "Python 3 (ipykernel)",
   "language": "python",
   "name": "python3"
  },
  "language_info": {
   "codemirror_mode": {
    "name": "ipython",
    "version": 3
   },
   "file_extension": ".py",
   "mimetype": "text/x-python",
   "name": "python",
   "nbconvert_exporter": "python",
   "pygments_lexer": "ipython3",
   "version": "3.10.9"
  }
 },
 "nbformat": 4,
 "nbformat_minor": 5
}
